{
 "cells": [
  {
   "cell_type": "code",
   "execution_count": 33,
   "id": "c8393d23",
   "metadata": {},
   "outputs": [],
   "source": [
    "class Student:\n",
    "    def hello(self):\n",
    "        print(\"Hello! I'm a student.\")\n",
    "   "
   ]
  },
  {
   "cell_type": "code",
   "execution_count": 34,
   "id": "1046a067",
   "metadata": {},
   "outputs": [
    {
     "name": "stdout",
     "output_type": "stream",
     "text": [
      "Hello! I'm a student.\n"
     ]
    }
   ],
   "source": [
    "s = Student()\n",
    "s.hello()"
   ]
  },
  {
   "cell_type": "code",
   "execution_count": 35,
   "id": "ee226b55",
   "metadata": {},
   "outputs": [],
   "source": [
    "class Student:\n",
    "    def __init__(self, name, index_number):\n",
    "        self.name = name\n",
    "        self.index_number = index_number\n",
    "\n",
    "    def hello(self):\n",
    "        print(f\"Hello! I'm {self.name}. My index number is {self.index_number}.\")\n",
    "\n",
    "\n",
    "    "
   ]
  },
  {
   "cell_type": "code",
   "execution_count": 36,
   "id": "bc8d732e",
   "metadata": {},
   "outputs": [
    {
     "name": "stdout",
     "output_type": "stream",
     "text": [
      "Hello! I'm yusuf can. My index number is 35376.\n"
     ]
    }
   ],
   "source": [
    "student1 = Student(\"yusuf can\", \"35376\")\n",
    "student1.hello()\n",
    "\n",
    "       \n"
   ]
  }
 ],
 "metadata": {
  "kernelspec": {
   "display_name": "Python 3",
   "language": "python",
   "name": "python3"
  },
  "language_info": {
   "codemirror_mode": {
    "name": "ipython",
    "version": 3
   },
   "file_extension": ".py",
   "mimetype": "text/x-python",
   "name": "python",
   "nbconvert_exporter": "python",
   "pygments_lexer": "ipython3",
   "version": "3.12.1"
  }
 },
 "nbformat": 4,
 "nbformat_minor": 5
}
