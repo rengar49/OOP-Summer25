{
 "cells": [
  {
   "cell_type": "code",
   "execution_count": 1,
   "id": "4f9a4c5b",
   "metadata": {},
   "outputs": [],
   "source": [
    "class Animal:\n",
    "    def give_sound(self, sound):\n",
    "        print(sound)"
   ]
  },
  {
   "cell_type": "code",
   "execution_count": 2,
   "id": "e9c35da7",
   "metadata": {},
   "outputs": [],
   "source": [
    "class Cat(Animal):\n",
    "    def meow(self):\n",
    "        self.give_sound('meow')\n"
   ]
  },
  {
   "cell_type": "code",
   "execution_count": 3,
   "id": "322ab984",
   "metadata": {},
   "outputs": [
    {
     "name": "stdout",
     "output_type": "stream",
     "text": [
      "meow\n"
     ]
    }
   ],
   "source": [
    "my_cat = Cat()\n",
    "my_cat.meow()"
   ]
  },
  {
   "cell_type": "code",
   "execution_count": 4,
   "id": "1f16aca0",
   "metadata": {},
   "outputs": [],
   "source": [
    "class Person:\n",
    "    def __init__(self, first_name, last_name):\n",
    "        self.first_name = first_name\n",
    "        self.last_name = last_name"
   ]
  },
  {
   "cell_type": "code",
   "execution_count": 5,
   "id": "b809d008",
   "metadata": {},
   "outputs": [
    {
     "name": "stdout",
     "output_type": "stream",
     "text": [
      "Name: Yusuf Demir, Subject: Mathematics\n"
     ]
    }
   ],
   "source": [
    "class Teacher:\n",
    "    def __init__(self, first_name, last_name, subject):\n",
    "        self.first_name = first_name\n",
    "        self.last_name = last_name\n",
    "        self.subject = subject\n",
    "\n",
    "    def display_info(self):\n",
    "        print(f\"Name: {self.first_name} {self.last_name}, Subject: {self.subject}\")\n",
    "\n",
    "teacher1 = Teacher('Yusuf', 'Demir', 'Mathematics')\n",
    "teacher1.display_info()"
   ]
  },
  {
   "cell_type": "code",
   "execution_count": 6,
   "id": "bfb6b6ca",
   "metadata": {},
   "outputs": [
    {
     "name": "stdout",
     "output_type": "stream",
     "text": [
      "Name: yusuf demir, Subject: Mathematics\n"
     ]
    }
   ],
   "source": [
    "class Teacher(Person):\n",
    "    def __init__(self, first_name, last_name, subject):\n",
    "        super().__init__(first_name, last_name)\n",
    "        self.subject = subject\n",
    "\n",
    "    def display_info(self):\n",
    "        print(f\"Name: {self.first_name} {self.last_name}, Subject: {self.subject}\")\n",
    "\n",
    "teacher1 = Teacher('yusuf', 'demir', 'Mathematics')\n",
    "teacher1.display_info()"
   ]
  }
 ],
 "metadata": {
  "kernelspec": {
   "display_name": "Python 3",
   "language": "python",
   "name": "python3"
  },
  "language_info": {
   "codemirror_mode": {
    "name": "ipython",
    "version": 3
   },
   "file_extension": ".py",
   "mimetype": "text/x-python",
   "name": "python",
   "nbconvert_exporter": "python",
   "pygments_lexer": "ipython3",
   "version": "3.12.1"
  }
 },
 "nbformat": 4,
 "nbformat_minor": 5
}
