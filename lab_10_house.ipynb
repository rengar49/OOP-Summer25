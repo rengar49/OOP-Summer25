{
 "cells": [
  {
   "cell_type": "code",
   "execution_count": 4,
   "id": "b59b696f",
   "metadata": {},
   "outputs": [],
   "source": [
    "class House:\n",
    "    def __init__(self, location, floors, furnitures):\n",
    "        self.location = location\n",
    "        self.floors = floors\n",
    "        self.furnitures = furnitures\n",
    "\n",
    "    def __str__(self):\n",
    "        return (f\"House in {self.location['city']}, {self.location['country']} on {self.location['street']} street\\n\"\n",
    "                f\"Floors: {self.floors}\\n\"\n",
    "                f\"Furnitures: {', '.join(self.furnitures)}\")"
   ]
  },
  {
   "cell_type": "code",
   "execution_count": null,
   "id": "b979df1e",
   "metadata": {},
   "outputs": [],
   "source": [
    "house1 = House(\n",
    "    location={'country': 'Poland', 'city': 'Warsaw', 'street': 'dolna'},\n",
    "    floors=2,\n",
    "    furnitures=['table', 'sofa', 'bed', 'wardrobe']\n",
    ")\n",
    "\n",
    "house2 = House(\n",
    "    location={'country': 'Poland', 'city': 'Krakow', 'street': 'Floriańska'},\n",
    "    floors=3,\n",
    "    furnitures=['desk', 'chair', 'bookshelf']\n",
    ")"
   ]
  },
  {
   "cell_type": "code",
   "execution_count": 6,
   "id": "667d1ea0",
   "metadata": {},
   "outputs": [
    {
     "name": "stdout",
     "output_type": "stream",
     "text": [
      "House in Warsaw, Poland on dolna street\n",
      "Floors: 2\n",
      "Furnitures: table, sofa, bed, wardrobe\n",
      "\n",
      "House in Krakow, Poland on Floriańska street\n",
      "Floors: 3\n",
      "Furnitures: desk, chair, bookshelf\n"
     ]
    }
   ],
   "source": [
    "print(house1)\n",
    "print()\n",
    "print(house2)"
   ]
  }
 ],
 "metadata": {
  "kernelspec": {
   "display_name": ".venv",
   "language": "python",
   "name": "python3"
  },
  "language_info": {
   "codemirror_mode": {
    "name": "ipython",
    "version": 3
   },
   "file_extension": ".py",
   "mimetype": "text/x-python",
   "name": "python",
   "nbconvert_exporter": "python",
   "pygments_lexer": "ipython3",
   "version": "3.12.1"
  }
 },
 "nbformat": 4,
 "nbformat_minor": 5
}
