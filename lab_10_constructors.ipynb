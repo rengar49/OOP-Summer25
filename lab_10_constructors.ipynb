{
 "cells": [
  {
   "cell_type": "code",
   "execution_count": 1,
   "id": "ab860981",
   "metadata": {},
   "outputs": [],
   "source": [
    "class Animal:\n",
    "    def __init__(self):\n",
    "        print(\"An animal has been created!\")\n"
   ]
  },
  {
   "cell_type": "code",
   "execution_count": 2,
   "id": "cbff384c",
   "metadata": {},
   "outputs": [
    {
     "name": "stdout",
     "output_type": "stream",
     "text": [
      "An animal has been created!\n",
      "An animal has been created!\n",
      "An animal has been created!\n"
     ]
    }
   ],
   "source": [
    "lion    = Animal()\n",
    "tiger   = Animal()\n",
    "cat     = Animal()\n"
   ]
  },
  {
   "cell_type": "code",
   "execution_count": null,
   "id": "486193ef",
   "metadata": {},
   "outputs": [],
   "source": [
    "\n",
    "class Car:\n",
    "    def __init__(self, brand, model):\n",
    "        self.brand = brand\n",
    "        self.model = model"
   ]
  },
  {
   "cell_type": "code",
   "execution_count": null,
   "id": "1b7ab48c",
   "metadata": {},
   "outputs": [],
   "source": [
    "car1 = Car(\"Toyota\", \"Corolla\")\n",
    "car2 = Car(\"Tesla\", \"Model S\")\n",
    "car3 = Car(\"Ford\", \"Mustang\")"
   ]
  },
  {
   "cell_type": "code",
   "execution_count": 5,
   "id": "30560cee",
   "metadata": {},
   "outputs": [
    {
     "name": "stdout",
     "output_type": "stream",
     "text": [
      "Toyota Corolla\n",
      "Tesla Model S\n",
      "Ford Mustang\n"
     ]
    }
   ],
   "source": [
    "print(car1.brand, car1.model)\n",
    "print(car2.brand, car2.model)\n",
    "print(car3.brand, car3.model)"
   ]
  }
 ],
 "metadata": {
  "kernelspec": {
   "display_name": ".venv",
   "language": "python",
   "name": "python3"
  },
  "language_info": {
   "codemirror_mode": {
    "name": "ipython",
    "version": 3
   },
   "file_extension": ".py",
   "mimetype": "text/x-python",
   "name": "python",
   "nbconvert_exporter": "python",
   "pygments_lexer": "ipython3",
   "version": "3.12.1"
  }
 },
 "nbformat": 4,
 "nbformat_minor": 5
}
